{
  "cells": [
    {
      "cell_type": "markdown",
      "metadata": {
        "id": "LVg_buIoub2M"
      },
      "source": [
        "# Classifying Yelp Reviews (Classifying Sentiment of Restaurant Reviews, chapter 3)\n",
        "\n",
        "### Source: Chapter 3, Natural Language Processing with Pytorch. (2019). Delip Rao and Brian McMahan. O’Reilly: source code available on https://github.com/joosthub/PyTorchNLPBook\n",
        "\n",
        "### PyTorch tutorial: refer to https://pytorch.org/tutorials/"
      ]
    },
    {
      "cell_type": "code",
      "source": [
        "from google.colab import drive\n",
        "drive.mount('/content/drive')"
      ],
      "metadata": {
        "colab": {
          "base_uri": "https://localhost:8080/"
        },
        "id": "dds6wXAEv9tl",
        "outputId": "5bce2fa4-2563-40d7-bcee-75eb50794113"
      },
      "execution_count": 1,
      "outputs": [
        {
          "output_type": "stream",
          "name": "stdout",
          "text": [
            "Mounted at /content/drive\n"
          ]
        }
      ]
    },
    {
      "cell_type": "markdown",
      "metadata": {
        "id": "SUcxI4sPub2V"
      },
      "source": [
        "## Imports"
      ]
    },
    {
      "cell_type": "code",
      "execution_count": 2,
      "metadata": {
        "id": "UBlNS2HDub2Z"
      },
      "outputs": [],
      "source": [
        "from argparse import Namespace\n",
        "from collections import Counter\n",
        "import json\n",
        "import os\n",
        "import re\n",
        "import string\n",
        "\n",
        "import numpy as np\n",
        "import pandas as pd\n",
        "import torch\n",
        "import torch.nn as nn\n",
        "import torch.nn.functional as F\n",
        "import torch.optim as optim\n",
        "from torch.utils.data import Dataset, DataLoader\n",
        "from tqdm.notebook import tqdm"
      ]
    },
    {
      "cell_type": "markdown",
      "metadata": {
        "id": "qAm_h35pub2e"
      },
      "source": [
        "## Data Vectorization classes"
      ]
    },
    {
      "cell_type": "markdown",
      "metadata": {
        "id": "N7xDzjZkub2g"
      },
      "source": [
        "### The Vocabulary"
      ]
    },
    {
      "cell_type": "code",
      "execution_count": 3,
      "metadata": {
        "code_folding": [],
        "id": "ZpzYzpv2ub2i"
      },
      "outputs": [],
      "source": [
        "class Vocabulary(object):\n",
        "    \"\"\"Class to process text and extract vocabulary for mapping\"\"\"\n",
        "\n",
        "    def __init__(self, token_to_idx=None, add_unk=True, unk_token=\"<UNK>\"):\n",
        "        \"\"\"\n",
        "        Args:\n",
        "            token_to_idx (dict): a pre-existing map of tokens to indices\n",
        "            add_unk (bool): a flag that indicates whether to add the UNK token\n",
        "            unk_token (str): the UNK token to add into the Vocabulary\n",
        "        \"\"\"\n",
        "\n",
        "        if token_to_idx is None:\n",
        "            token_to_idx = {}\n",
        "        self._token_to_idx = token_to_idx         # _token_to_idx: {'<UNK>':0, 'apple':1, 'banana':2, ....., 'zzz':10000}\n",
        "                                                  # _idx_to_token: {0:'<UNK>', 1:'apple', 2:'banana', ....., 10000:'zzz'}\n",
        "\n",
        "        self._idx_to_token = {idx: token\n",
        "                              for token, idx in self._token_to_idx.items()}\n",
        "\n",
        "        self._add_unk = add_unk\n",
        "        self._unk_token = unk_token\n",
        "\n",
        "        self.unk_index = -1\n",
        "        if add_unk:\n",
        "            self.unk_index = self.add_token(unk_token)\n",
        "\n",
        "    def add_token(self, token):\n",
        "        \"\"\"Update mapping dicts based on the token.\n",
        "\n",
        "        Args:\n",
        "            token (str): the item to add into the Vocabulary\n",
        "        Returns:\n",
        "            index (int): the integer corresponding to the token\n",
        "        \"\"\"\n",
        "        if token in self._token_to_idx:\n",
        "            index = self._token_to_idx[token]\n",
        "        else:\n",
        "            index = len(self._token_to_idx)\n",
        "            self._token_to_idx[token] = index\n",
        "            self._idx_to_token[index] = token\n",
        "        return index\n",
        "\n",
        "    def lookup_token(self, token):\n",
        "        \"\"\"Retrieve the index associated with the token\n",
        "          or the UNK index if token isn't present.\n",
        "\n",
        "        Args:\n",
        "            token (str): the token to look up\n",
        "        Returns:\n",
        "            index (int): the index corresponding to the token\n",
        "        Notes:\n",
        "            `unk_index` needs to be >=0 (having been added into the Vocabulary)\n",
        "              for the UNK functionality\n",
        "        \"\"\"\n",
        "        if self.unk_index >= 0:                   # if unk_token is defined, unknown words are handled\n",
        "            return self._token_to_idx.get(token, self.unk_index)  # self.unk_index set to 0\n",
        "        else:\n",
        "            return self._token_to_idx[token]\n",
        "\n",
        "    def lookup_index(self, index):\n",
        "        \"\"\"Return the token associated with the index\n",
        "\n",
        "        Args:\n",
        "            index (int): the index to look up\n",
        "        Returns:\n",
        "            token (str): the token corresponding to the index\n",
        "        Raises:\n",
        "            KeyError: if the index is not in the Vocabulary\n",
        "        \"\"\"\n",
        "        if index not in self._idx_to_token:\n",
        "            raise KeyError(\"the index (%d) is not in the Vocabulary\" % index)\n",
        "        return self._idx_to_token[index]\n",
        "\n",
        "    def __str__(self):\n",
        "        return \"<Vocabulary(size=%d)>\" % len(self)\n",
        "\n",
        "    def __len__(self):\n",
        "        return len(self._token_to_idx)"
      ]
    },
    {
      "cell_type": "markdown",
      "metadata": {
        "id": "GGThJMgtub2l"
      },
      "source": [
        "### The Vectorizer"
      ]
    },
    {
      "cell_type": "markdown",
      "source": [
        "#### Exercise\n",
        "Using Term Frequency Vector Instead of Term Presence"
      ],
      "metadata": {
        "id": "b8rVoxygo7OA"
      }
    },
    {
      "cell_type": "code",
      "execution_count": 4,
      "metadata": {
        "code_folding": [],
        "id": "P37GOKssub2n"
      },
      "outputs": [],
      "source": [
        "class ReviewVectorizer(object):\n",
        "    \"\"\" The Vectorizer which coordinates the Vocabularies and puts them to use\"\"\"\n",
        "    def __init__(self, review_vocab, rating_vocab):\n",
        "        \"\"\"\n",
        "        Args:\n",
        "            review_vocab (Vocabulary): maps words to integers\n",
        "            rating_vocab (Vocabulary): maps class labels to integers; {'negative':0, 'positive':1}\n",
        "        \"\"\"\n",
        "        self.review_vocab = review_vocab     # {'<UNK>':0, 'apple':1, 'banana':2, ....., 'zzz':10000}\n",
        "        self.rating_vocab = rating_vocab     # {'negative':0, 'positive':1}\n",
        "\n",
        "    def vectorize(self, review):\n",
        "        \"\"\"Create a collapsed one-hot vector for the review\n",
        "\n",
        "        Args:\n",
        "            review (str): the review\n",
        "        Returns:\n",
        "            one_hot (np.ndarray): the collapsed one-hot encoding\n",
        "        \"\"\"\n",
        "        # one_hot = np.zeros(len(self.review_vocab), dtype=np.float32)  # E.g., the one_hot vector size: 1792\n",
        "        term_freq_vector = np.zeros(len(self.review_vocab), dtype=np.float32)  # Scape of the Dictionary\n",
        "\n",
        "        for token in review.split(\" \"):\n",
        "            if token not in string.punctuation:\n",
        "                # one_hot[self.review_vocab.lookup_token(token)] = 1\n",
        "                token_index = self.review_vocab.lookup_token(token)\n",
        "                term_freq_vector[token_index] += 1  # Compute frequency\n",
        "\n",
        "        return term_freq_vector  # E.g., \"Unfortunately, the frustration of being Dr. Go...\" -> [0, 0, 1, 0, 1, ....., 0, 0]\n",
        "\n",
        "    # def vectorize(self, review):\n",
        "    #     \"\"\"Create a collapsed one-hot vector for the review\n",
        "\n",
        "    #     Args:\n",
        "    #         review (str): the review\n",
        "    #     Returns:\n",
        "    #         one_hot (np.ndarray): the collapsed one-hot encoding\n",
        "    #     \"\"\"\n",
        "    #     one_hot = np.zeros(len(self.review_vocab), dtype=np.float32)  # E.g., the one_hot vector size: 1792\n",
        "\n",
        "    #     for token in review.split(\" \"):\n",
        "    #         if token not in string.punctuation:\n",
        "    #             one_hot[self.review_vocab.lookup_token(token)] = 1\n",
        "\n",
        "    #     return one_hot  # E.g., \"Unfortunately, the frustration of being Dr. Go...\" -> [0, 0, 1, 0, 1, ....., 0, 0]\n",
        "\n",
        "    @classmethod\n",
        "    def from_dataframe(cls, review_df, cutoff=25):\n",
        "        \"\"\"Instantiate the vectorizer from the dataset dataframe\n",
        "\n",
        "        Args:\n",
        "            cls: class name, i.e. ReviewVectorizer\n",
        "            review_df (pandas.DataFrame): the review dataset\n",
        "            cutoff (int): the parameter for frequency-based filtering\n",
        "        Returns:\n",
        "            an instance of the ReviewVectorizer\n",
        "        \"\"\"\n",
        "        review_vocab = Vocabulary(add_unk=True)   # create an instance of Vocabulary class\n",
        "        rating_vocab = Vocabulary(add_unk=False)\n",
        "\n",
        "        # Add ratings\n",
        "        for rating in sorted(set(review_df.rating)):\n",
        "            rating_vocab.add_token(rating)            # {'negative':0, 'positive':1}\n",
        "\n",
        "        # Add top words if count > provided count\n",
        "        word_counts = Counter()\n",
        "        for review in review_df.review:\n",
        "            for word in review.split(\" \"):\n",
        "                if word not in string.punctuation:    # ignore punctuation tokens\n",
        "                    word_counts[word] += 1\n",
        "\n",
        "        for word, count in word_counts.items():\n",
        "            if count > cutoff:\n",
        "                review_vocab.add_token(word)          # {'<UNK>':0, 'apple':1, 'banana':2, ....., 'zzz':10000}\n",
        "\n",
        "        return cls(review_vocab, rating_vocab)"
      ]
    },
    {
      "cell_type": "markdown",
      "metadata": {
        "id": "h8lb1kldub2r"
      },
      "source": [
        "### The Dataset"
      ]
    },
    {
      "cell_type": "code",
      "execution_count": 5,
      "metadata": {
        "code_folding": [
          65
        ],
        "id": "PWP8PrXbub2t"
      },
      "outputs": [],
      "source": [
        "class ReviewDataset(Dataset):\n",
        "    def __init__(self, review_df, vectorizer):\n",
        "        \"\"\"\n",
        "        Args:\n",
        "            review_df (pandas.DataFrame): the dataset\n",
        "            vectorizer (ReviewVectorizer): vectorizer instantiated from dataset\n",
        "        \"\"\"\n",
        "        self.review_df = review_df\n",
        "        self._vectorizer = vectorizer # Object of \"ReviewVectorizer\"\n",
        "\n",
        "        self.train_df = self.review_df[self.review_df.split=='train']\n",
        "        self.train_size = len(self.train_df)        # E.g., 3918\n",
        "\n",
        "        self.val_df = self.review_df[self.review_df.split=='val']\n",
        "        self.validation_size = len(self.val_df)     # E.g., 840\n",
        "\n",
        "        self.test_df = self.review_df[self.review_df.split=='test']\n",
        "        self.test_size = len(self.test_df)          # E.g., 840\n",
        "\n",
        "        self._lookup_dict = {'train': (self.train_df, self.train_size),\n",
        "                             'val': (self.val_df, self.validation_size),\n",
        "                             'test': (self.test_df, self.test_size)}\n",
        "\n",
        "        self.set_split('train')\n",
        "\n",
        "    @classmethod\n",
        "    def load_dataset_and_make_vectorizer(cls, review_csv, frequency_cutoff):\n",
        "        \"\"\"Load dataset and make a new vectorizer from scratch\n",
        "\n",
        "        Args:\n",
        "            cls: class name, i.e. ReviewDataset\n",
        "            review_csv (str): location of the dataset\n",
        "        Returns:\n",
        "            an instance of ReviewDataset\n",
        "        \"\"\"\n",
        "        review_df = pd.read_csv(review_csv)\n",
        "        train_review_df = review_df[review_df.split=='train']\n",
        "        return cls(review_df, ReviewVectorizer.from_dataframe(train_review_df, frequency_cutoff))\n",
        "\n",
        "    def get_vectorizer(self):\n",
        "        \"\"\" returns the vectorizer \"\"\"\n",
        "        return self._vectorizer\n",
        "\n",
        "    def set_split(self, split=\"train\"):\n",
        "        \"\"\" selects the splits in the dataset using a column in the dataframe\n",
        "\n",
        "        Args:\n",
        "            split (str): one of \"train\", \"val\", or \"test\"\n",
        "        \"\"\"\n",
        "        self._target_split = split\n",
        "        self._target_df, self._target_size = self._lookup_dict[split]\n",
        "\n",
        "    def __len__(self):\n",
        "        return self._target_size\n",
        "\n",
        "    def __getitem__(self, index):\n",
        "        \"\"\"the primary entry point method for PyTorch datasets\n",
        "\n",
        "        Args:\n",
        "            index (int): the index to the data point\n",
        "        Returns:\n",
        "            a dictionary holding the data point's features (x_data) and label (y_target)\n",
        "        \"\"\"\n",
        "        row = self._target_df.iloc[index]\n",
        "\n",
        "        review_vector = \\\n",
        "            self._vectorizer.vectorize(row.review)\n",
        "\n",
        "        rating_index = \\\n",
        "            self._vectorizer.rating_vocab.lookup_token(row.rating)\n",
        "\n",
        "        return {'x_data': review_vector,           #  e.g., { 'x_data': [0, 0, 1, 0, 1, ....., 0, 0],\n",
        "                'y_target': rating_index}          #          'y_target': 0  }\n",
        "\n",
        "    def get_num_batches(self, batch_size):\n",
        "        \"\"\"Given a batch size, return the number of batches in the dataset\n",
        "\n",
        "        Args:\n",
        "            batch_size (int)\n",
        "        Returns:\n",
        "            number of batches in the dataset\n",
        "        \"\"\"\n",
        "        return len(self) // batch_size  # the floor division \"//\" rounds the result down to the nearest whole number\n",
        "\n",
        "def generate_batches(dataset, batch_size, shuffle=True,\n",
        "                     drop_last=True, device=\"cpu\"):\n",
        "    \"\"\"\n",
        "    A generator function which wraps the PyTorch DataLoader. It will\n",
        "      ensure each tensor is on the cpu or gpu device location.\n",
        "    \"\"\"\n",
        "    # drop_last: set to True to drop the last incomplete batch, if the dataset size is not divisible by the batch size.\n",
        "    # If False and the size of dataset is not divisible by the batch size, then the last batch will be smaller. (default: False)\n",
        "    # need to use sampler option for balanced data:\n",
        "    # https://discuss.pytorch.org/t/balanced-sampling-between-classes-with-torchvision-dataloader/2703\n",
        "    dataloader = DataLoader(dataset=dataset, batch_size=batch_size,\n",
        "                            shuffle=shuffle, drop_last=drop_last)\n",
        "\n",
        "    for data_dict in dataloader:\n",
        "        out_data_dict = {}\n",
        "        for name, tensor in data_dict.items():  # name: x_data & y_target\n",
        "            out_data_dict[name] = data_dict[name].to(device)\n",
        "        yield out_data_dict"
      ]
    },
    {
      "cell_type": "markdown",
      "metadata": {
        "id": "qka7VLjtub2w"
      },
      "source": [
        "## The Model: ReviewClassifier"
      ]
    },
    {
      "cell_type": "code",
      "execution_count": 23,
      "metadata": {
        "code_folding": [],
        "id": "rh2XOtGxub2x"
      },
      "outputs": [],
      "source": [
        "# class ReviewClassifier(nn.Module):\n",
        "#     \"\"\" a simple perceptron based classifier \"\"\"\n",
        "#     def __init__(self, num_features, hidden_dim):\n",
        "#         \"\"\"\n",
        "#         Args:\n",
        "#             num_features (int): the size of the input feature vector\n",
        "#             hidden_dim   (int): the size of hidden dimension\n",
        "#         \"\"\"\n",
        "#         super(ReviewClassifier, self).__init__()\n",
        "#         self.fc1 = nn.Linear(in_features=num_features, out_features=hidden_dim)  # E.g., num_features: 1792; hidden_dim: 20\n",
        "#         self.fc2 = nn.Linear(in_features=hidden_dim, out_features=1)\n",
        "\n",
        "#     def forward(self, x_in):\n",
        "#         \"\"\"The forward pass of the classifier\n",
        "#         Args:\n",
        "#             x_in (torch.Tensor): an input data tensor.\n",
        "#                 x_in.shape should be [batch, num_features]\n",
        "#         Returns:\n",
        "#             the resulting tensor. tensor.shape should be [batch]\n",
        "#         \"\"\"\n",
        "#         intermediate = self.fc1(x_in)            # [batch, num_features] -> [batch, hidden_dim] ; E.g., [128,1792]->[128,20]\n",
        "#         intermediate = F.relu(intermediate)      # [batch, hidden_dim] ; E.g., [128,20]\n",
        "#         y_out = self.fc2(intermediate)           # [batch, hidden_dim] -> [batch, out_features] ; E.g., [128,20]->[128,1]\n",
        "\n",
        "#         return torch.sigmoid(y_out).squeeze()    # [batch, 1] -> [batch] (e.g., [0.3, 0.1, ..., 0.5]) ; E.g., [128,1]->[128]"
      ]
    },
    {
      "cell_type": "markdown",
      "metadata": {
        "id": "lXqbOhk-ub2y"
      },
      "source": [
        "### Excercise\n",
        "1. Add 1 additional hidden layer"
      ]
    },
    {
      "cell_type": "code",
      "source": [
        "class ReviewClassifier(nn.Module):\n",
        "    \"\"\"A simple perceptron-based classifier with two hidden layers\"\"\"\n",
        "    def __init__(self, num_features, hidden_dim):\n",
        "        \"\"\"\n",
        "        Args:\n",
        "            num_features (int): the size of the input feature vector\n",
        "            hidden_dim   (int): the size of hidden dimension\n",
        "        \"\"\"\n",
        "        super(ReviewClassifier, self).__init__()\n",
        "        self.fc1 = nn.Linear(in_features=num_features, out_features=hidden_dim)  # First hidden layer\n",
        "        self.fc2 = nn.Linear(in_features=hidden_dim, out_features=hidden_dim)    # Second hidden layer\n",
        "        self.fc3 = nn.Linear(in_features=hidden_dim, out_features=1)             # Output layer\n",
        "\n",
        "    def forward(self, x_in):\n",
        "        \"\"\"The forward pass of the classifier\n",
        "        Args:\n",
        "            x_in (torch.Tensor): an input data tensor.\n",
        "                x_in.shape should be [batch, num_features]\n",
        "        Returns:\n",
        "            the resulting tensor. tensor.shape should be [batch]\n",
        "        \"\"\"\n",
        "        intermediate = self.fc1(x_in)          # [batch, num_features] -> [batch, hidden_dim]\n",
        "        intermediate = F.relu(intermediate)    # Apply ReLU activation\n",
        "        intermediate = self.fc2(intermediate)  # [batch, hidden_dim] -> [batch, hidden_dim]\n",
        "        intermediate = F.relu(intermediate)    # Apply ReLU activation again\n",
        "        y_out = self.fc3(intermediate)         # [batch, hidden_dim] -> [batch, 1]\n",
        "\n",
        "        return torch.sigmoid(y_out).squeeze()  # Apply sigmoid and return output"
      ],
      "metadata": {
        "id": "yDDpOp9AT5QW"
      },
      "execution_count": 6,
      "outputs": []
    },
    {
      "cell_type": "markdown",
      "metadata": {
        "id": "m7Iysn0hub2z"
      },
      "source": [
        "## Training Routine"
      ]
    },
    {
      "cell_type": "markdown",
      "metadata": {
        "id": "_bpDiru8ub2z"
      },
      "source": [
        "### Helper functions"
      ]
    },
    {
      "cell_type": "code",
      "execution_count": 24,
      "metadata": {
        "code_folding": [],
        "id": "K6pXVJgpub20"
      },
      "outputs": [],
      "source": [
        "def make_train_state():\n",
        "    return {'train_loss': [],\n",
        "            'train_acc': [],\n",
        "            'val_loss': [],\n",
        "            'val_acc': []}\n",
        "\n",
        "def compute_accuracy(y_pred, y_target):\n",
        "    y_target = y_target.cpu()\n",
        "    y_pred_indices = (y_pred>0.5).cpu().long()\n",
        "    n_correct = torch.eq(y_pred_indices, y_target).sum().item()  # item() to get a Python number from a tensor containing a single value\n",
        "    return n_correct / len(y_pred_indices) * 100"
      ]
    },
    {
      "cell_type": "markdown",
      "metadata": {
        "id": "8WgdD1P1ub20"
      },
      "source": [
        "#### General utilities"
      ]
    },
    {
      "cell_type": "code",
      "execution_count": 25,
      "metadata": {
        "id": "Kjrw_RcHub21"
      },
      "outputs": [],
      "source": [
        "def set_seed_everywhere(seed, cuda):\n",
        "    np.random.seed(seed)\n",
        "    torch.manual_seed(seed)\n",
        "    if cuda:\n",
        "        torch.cuda.manual_seed_all(seed)"
      ]
    },
    {
      "cell_type": "markdown",
      "metadata": {
        "id": "GvBdWBSRub22"
      },
      "source": [
        "### Settings and some prep work\n",
        "\n",
        "Hyper Parameters For Training\n",
        "\n",
        "- frequency_cutoff: Sets a frequency threshold for words. Words that appear fewer than this number of times will be ignored.\n",
        "- hidden_dim: Defines the number of neurons in the hidden layer (self.fc1). Smaller values (e.g., hidden_dim=5): The model is simpler and may not capture complex patterns.Larger values (e.g., hidden_dim=100): The model is more expressive but might overfit.\n",
        "- batch_size: Defines the number of samples processed at once during training (batch size).For \"Batch Gradient Descent\".\n",
        "- num_epochs: Specifies the number of full passes over the training dataset.\n",
        "- Seed: Purpose: A random seed to ensure reproducibility. Effect: Fixing the seed ensures that the model produces the same results across runs.\n",
        "- catch_keyboard_interrupt: Allows the training to be safely interrupted using Ctrl+C without crashing."
      ]
    },
    {
      "cell_type": "code",
      "execution_count": 26,
      "metadata": {
        "id": "tzgaaVmJub22",
        "outputId": "c762d861-42c8-4ee8-ae67-acb5a38fa8fc",
        "colab": {
          "base_uri": "https://localhost:8080/"
        }
      },
      "outputs": [
        {
          "output_type": "stream",
          "name": "stdout",
          "text": [
            "Using CUDA: True\n"
          ]
        }
      ],
      "source": [
        "args = Namespace(\n",
        "    # Data and Path information\n",
        "    # frequency_cutoff=25,\n",
        "    frequency_cutoff=0,\n",
        "    review_csv='/content/drive/MyDrive/wk5-mnn-chapter_3/data/yelp/reviews_with_splits_lite.csv',\n",
        "    # Model hyper parameters\n",
        "    hidden_dim=20,\n",
        "    # Training hyper parameters\n",
        "    batch_size=128,\n",
        "    learning_rate=0.001,\n",
        "    num_epochs=25,\n",
        "    seed=1337,\n",
        "    # Runtime options\n",
        "    catch_keyboard_interrupt=True,\n",
        "    cuda=True,\n",
        ")\n",
        "\n",
        "# Check CUDA\n",
        "if not torch.cuda.is_available():\n",
        "    args.cuda = False\n",
        "\n",
        "print(\"Using CUDA: {}\".format(args.cuda))\n",
        "\n",
        "args.device = torch.device(\"cuda\" if args.cuda else \"cpu\")\n",
        "\n",
        "# Set seed for reproducibility\n",
        "set_seed_everywhere(args.seed, args.cuda)"
      ]
    },
    {
      "cell_type": "markdown",
      "metadata": {
        "id": "GCAkZAp4ub25"
      },
      "source": [
        "### Excercise\n",
        "1. Change the value of frequency_cutoff to 0 for using all the terms occurring in training dataset\n",
        "2. Try to explore other hyperparameters."
      ]
    },
    {
      "cell_type": "markdown",
      "metadata": {
        "id": "bKqFTfvBub26"
      },
      "source": [
        "### Initializations\n",
        "\n",
        "Constructed \"dataset\", \"vectorizer\", \"classifier\""
      ]
    },
    {
      "cell_type": "code",
      "execution_count": 27,
      "metadata": {
        "id": "0w82d_TNub26",
        "outputId": "9bc18430-d9bc-40b2-a467-0f4c34d72808",
        "colab": {
          "base_uri": "https://localhost:8080/"
        }
      },
      "outputs": [
        {
          "output_type": "stream",
          "name": "stdout",
          "text": [
            "Loading dataset and creating vectorizer\n"
          ]
        }
      ],
      "source": [
        "print(\"Loading dataset and creating vectorizer\")\n",
        "# create dataset and vectorizer\n",
        "dataset = ReviewDataset.load_dataset_and_make_vectorizer(args.review_csv, args.frequency_cutoff)\n",
        "\n",
        "vectorizer = dataset.get_vectorizer()\n",
        "\n",
        "classifier = ReviewClassifier(num_features=len(vectorizer.review_vocab), hidden_dim=args.hidden_dim)"
      ]
    },
    {
      "cell_type": "code",
      "execution_count": 28,
      "metadata": {
        "id": "TA3PkbEoub28",
        "outputId": "f57b4c96-0cc4-47df-d1b6-8b6d3b3ba145",
        "colab": {
          "base_uri": "https://localhost:8080/"
        }
      },
      "outputs": [
        {
          "output_type": "execute_result",
          "data": {
            "text/plain": [
              "('<Vocabulary(size=18429)>', '<Vocabulary(size=2)>')"
            ]
          },
          "metadata": {},
          "execution_count": 28
        }
      ],
      "source": [
        "str(vectorizer.review_vocab), str(vectorizer.rating_vocab)"
      ]
    },
    {
      "cell_type": "markdown",
      "metadata": {
        "id": "C0U5OcP4ub28"
      },
      "source": [
        "### Training loop"
      ]
    },
    {
      "cell_type": "code",
      "execution_count": 29,
      "metadata": {
        "code_folding": [
          30
        ],
        "colab": {
          "referenced_widgets": [
            "7af98aaf23f54b4b9a75cfd5b4e5a385",
            "58dda268ee01440586ba47afe8550d70",
            "bb9de3cf7b004d9cabc714a6cb0bf5ff",
            "29e2dc1b805241ecaa3c16cea9f4ab5c",
            "af6ed70db92345f28391365ed5ffa47f",
            "95f41402587f488aabe276db6a1a23f1",
            "31a40f2e34c34e06998fc50721c6aad1",
            "f99ae18150b3467288d4feaebf92c7a9",
            "6c500e5e15fa485c8e8fced09c90c0ec",
            "f1490c9cebd84f3bb3b6eff23195a473",
            "c82d4def373f4800a4e75025f28e5fdf",
            "da50feb37dea42baa40f620706260f83",
            "64afe5ce32114a70b8441cf41bb666c9",
            "964b90f0d1034d689c18d8b251cb86ec",
            "f04f433bc5de4981bae399053d19f4de",
            "e8d0499d900546af83381ae19a7d19f7",
            "41fe9aa63d43452da2ab5ff383c8c7d7",
            "132ece16387e4f739e30a9063804714c",
            "9eac0b79899146019e83918df348a942",
            "98b09d2dd38c4e0894e41e6bff8f26bf",
            "4310c252736a4f73b1f8b32858a2f0e4",
            "b568be31f86f40be9f124cfb1e2753f8",
            "c574ec29cb3745bc8a384e3616cdd4c3",
            "ce1511d97e814c9d93b5bcf93c5b79ec",
            "23bbb5c26ff841a6b9fc82e3b657ce5f",
            "d2b7b8622671480cbd00de41afa32171",
            "bbd93248c3984357bc8cc099c87a4741",
            "0089a984d23d48f1b3c63b314da4cbaa",
            "52384394379b4d3c8c6c01fee7156dd6",
            "e8a1b2a5512a49cba2eb851796ec892f",
            "498ccd981cb54b909ffb747e8b9dd32c",
            "3b46a31595034f1cb6ccdae303dc4ef2",
            "6a02367ad9d8452f90db039562438bc2"
          ],
          "base_uri": "https://localhost:8080/",
          "height": 113
        },
        "id": "LZLhUxviub29",
        "outputId": "9079266d-48b8-46ec-90fd-12fa3cd0e24d"
      },
      "outputs": [
        {
          "output_type": "display_data",
          "data": {
            "text/plain": [
              "training routine:   0%|          | 0/25 [00:00<?, ?it/s]"
            ],
            "application/vnd.jupyter.widget-view+json": {
              "version_major": 2,
              "version_minor": 0,
              "model_id": "7af98aaf23f54b4b9a75cfd5b4e5a385"
            }
          },
          "metadata": {}
        },
        {
          "output_type": "display_data",
          "data": {
            "text/plain": [
              "split=train:   0%|          | 0/30 [00:00<?, ?it/s]"
            ],
            "application/vnd.jupyter.widget-view+json": {
              "version_major": 2,
              "version_minor": 0,
              "model_id": "da50feb37dea42baa40f620706260f83"
            }
          },
          "metadata": {}
        },
        {
          "output_type": "display_data",
          "data": {
            "text/plain": [
              "split=val:   0%|          | 0/6 [00:00<?, ?it/s]"
            ],
            "application/vnd.jupyter.widget-view+json": {
              "version_major": 2,
              "version_minor": 0,
              "model_id": "c574ec29cb3745bc8a384e3616cdd4c3"
            }
          },
          "metadata": {}
        }
      ],
      "source": [
        "classifier = classifier.to(args.device) # Call library func: \"to\" (CPU --> GPU)\n",
        "\n",
        "loss_func = nn.BCELoss() # Binary Cross Entropy Loss\n",
        "optimizer = optim.Adam(classifier.parameters(), lr=args.learning_rate)\n",
        "\n",
        "train_state = make_train_state()\n",
        "\n",
        "epoch_bar = tqdm(desc='training routine', total=args.num_epochs)  # progress bar\n",
        "\n",
        "dataset.set_split('train')\n",
        "train_bar = tqdm(desc='split=train', total=dataset.get_num_batches(args.batch_size), leave=True)\n",
        "\n",
        "dataset.set_split('val')\n",
        "val_bar = tqdm(desc='split=val', total=dataset.get_num_batches(args.batch_size), leave=True)\n",
        "\n",
        "try:\n",
        "    for epoch_index in range(args.num_epochs):\n",
        "\n",
        "        # Iterate over training dataset\n",
        "\n",
        "        # setup: batch generator, set loss and acc to 0, set train mode on\n",
        "        dataset.set_split('train')\n",
        "        batch_generator = generate_batches(dataset,\n",
        "                                           batch_size=args.batch_size,\n",
        "                                           device=args.device)\n",
        "        running_loss = 0.0\n",
        "        running_acc = 0.0\n",
        "        classifier.train()\n",
        "\n",
        "        for batch_index, batch_dict in enumerate(batch_generator):\n",
        "            # the training routine is these 5 steps:\n",
        "\n",
        "            # --------------------------------------\n",
        "            # step 1. zero the gradients\n",
        "            optimizer.zero_grad()\n",
        "\n",
        "            # step 2. compute the output\n",
        "            y_pred = classifier(x_in=batch_dict['x_data'].float()) # [batch, num_features]->[batch] ; E.g., [128,1792]->[128]\n",
        "\n",
        "            # step 3. compute the loss\n",
        "            loss = loss_func(y_pred, batch_dict['y_target'].float()) # ([batch],[batch])->scalar ; E.g., ([128],[128])-> 0.69\n",
        "            loss_t = loss.item()\n",
        "            running_loss += (loss_t - running_loss) / (batch_index + 1)\n",
        "\n",
        "            # step 4. use loss to produce gradients\n",
        "            loss.backward()\n",
        "\n",
        "            # step 5. use optimizer to take gradient step\n",
        "            optimizer.step()\n",
        "            # -----------------------------------------\n",
        "            # compute the accuracy\n",
        "            acc_t = compute_accuracy(y_pred, batch_dict['y_target']) # ([batch],[batch])->scalar ; E.g., ([128],[128])-> 55.34\n",
        "            running_acc += (acc_t - running_acc) / (batch_index + 1)\n",
        "\n",
        "            # update bar\n",
        "            train_bar.set_postfix(loss=running_loss,\n",
        "                                  acc=running_acc,\n",
        "                                  epoch=epoch_index)\n",
        "            train_bar.update()\n",
        "\n",
        "        train_state['train_loss'].append(running_loss) # train_loss for each epoch\n",
        "        train_state['train_acc'].append(running_acc)   # train_acc for each epoch\n",
        "\n",
        "        # Iterate over val dataset\n",
        "\n",
        "        # setup: batch generator, set loss and acc to 0; set eval mode on\n",
        "        dataset.set_split('val')\n",
        "        batch_generator = generate_batches(dataset,\n",
        "                                           batch_size=args.batch_size,\n",
        "                                           device=args.device)\n",
        "        running_loss = 0.\n",
        "        running_acc = 0.\n",
        "        classifier.eval()\n",
        "\n",
        "        for batch_index, batch_dict in enumerate(batch_generator):\n",
        "\n",
        "            # compute the output\n",
        "            y_pred = classifier(x_in=batch_dict['x_data'].float()) # [batch, num_features]->[batch] ; E.g., [128,1792]->[128]\n",
        "\n",
        "            # step 3. compute the loss\n",
        "            loss = loss_func(y_pred, batch_dict['y_target'].float())\n",
        "            loss_t = loss.item()\n",
        "            running_loss += (loss_t - running_loss) / (batch_index + 1)\n",
        "\n",
        "            # compute the accuracy\n",
        "            acc_t = compute_accuracy(y_pred, batch_dict['y_target'])\n",
        "            running_acc += (acc_t - running_acc) / (batch_index + 1)\n",
        "\n",
        "            val_bar.set_postfix(loss=running_loss,\n",
        "                                acc=running_acc,\n",
        "                                epoch=epoch_index)\n",
        "            val_bar.update()\n",
        "\n",
        "        train_state['val_loss'].append(running_loss)   # val_loss for each epoch\n",
        "        train_state['val_acc'].append(running_acc)     # val_acc for each epoch\n",
        "\n",
        "        train_bar.n = 1  # reset number of finished iterations\n",
        "        val_bar.n = 1\n",
        "        epoch_bar.update()\n",
        "\n",
        "except KeyboardInterrupt:\n",
        "    print(\"Exiting loop\")"
      ]
    },
    {
      "cell_type": "code",
      "execution_count": 30,
      "metadata": {
        "id": "5dkhN94Mub2-",
        "outputId": "1717e06b-0cdb-443b-a7db-adee5f425850",
        "colab": {
          "base_uri": "https://localhost:8080/",
          "height": 472
        }
      },
      "outputs": [
        {
          "output_type": "display_data",
          "data": {
            "text/plain": [
              "<Figure size 640x480 with 1 Axes>"
            ],
            "image/png": "[encoded data removed]"
          },
          "metadata": {}
        }
      ],
      "source": [
        "%matplotlib inline\n",
        "import matplotlib.pyplot as plt\n",
        "\n",
        "acc = train_state['train_acc']\n",
        "val_acc = train_state['val_acc']\n",
        "loss = train_state['train_loss']\n",
        "val_loss = train_state['val_loss']\n",
        "\n",
        "epochs = range(1, len(acc) + 1)\n",
        "\n",
        "# \"bo\" is for \"blue dot\"\n",
        "plt.plot(epochs, loss, 'bo', label='Training loss')\n",
        "# b is for \"solid blue line\"\n",
        "plt.plot(epochs, val_loss, 'b', label='Validation loss')\n",
        "plt.title('Training and validation loss')\n",
        "plt.xlabel('Epochs')\n",
        "plt.ylabel('Loss')\n",
        "plt.legend()\n",
        "\n",
        "plt.show()"
      ]
    },
    {
      "cell_type": "code",
      "execution_count": 31,
      "metadata": {
        "id": "j0-DQ3Gdub2_",
        "outputId": "8911d23a-6f3c-46f5-8294-9a9365c51f41",
        "colab": {
          "base_uri": "https://localhost:8080/",
          "height": 472
        }
      },
      "outputs": [
        {
          "output_type": "display_data",
          "data": {
            "text/plain": [
              "<Figure size 640x480 with 1 Axes>"
            ],
            "image/png": "[encoded data removed]"
          },
          "metadata": {}
        }
      ],
      "source": [
        "plt.clf()   # clear figure\n",
        "\n",
        "plt.plot(epochs, acc, 'bo', label='Training acc')\n",
        "plt.plot(epochs, val_acc, 'b', label='Validation acc')\n",
        "plt.title('Training and validation accuracy')\n",
        "plt.xlabel('Epochs')\n",
        "plt.ylabel('Accuracy')\n",
        "plt.legend()\n",
        "\n",
        "plt.show()"
      ]
    },
    {
      "cell_type": "code",
      "execution_count": 32,
      "metadata": {
        "id": "XXNc4Amxub3A"
      },
      "outputs": [],
      "source": [
        "# compute the loss & accuracy on the test set using the best available model\n",
        "\n",
        "dataset.set_split('test')\n",
        "batch_generator = generate_batches(dataset,\n",
        "                                   batch_size=args.batch_size,\n",
        "                                   device=args.device)\n",
        "running_loss = 0.\n",
        "running_acc = 0.\n",
        "classifier.eval()\n",
        "\n",
        "y_pred_list = []    # store predicted values for confusion matrix\n",
        "y_target_list = []  # ground truth value\n",
        "\n",
        "for batch_index, batch_dict in enumerate(batch_generator):\n",
        "    # compute the output\n",
        "    y_pred = classifier(x_in=batch_dict['x_data'].float())   # [batch, num_features]->[batch] ; E.g., [128,1792]->[128]\n",
        "\n",
        "    # store predicted values and ground truth values for calculating confusion matrix\n",
        "    y_pred_list.extend((y_pred>0.5).cpu().long().numpy())      # E.g., [128] -> [1, 0, 1, 0, 0, .......]\n",
        "    y_target_list.extend(batch_dict['y_target'].cpu().numpy()) # E.g., [128] -> [1, 0, 0, 0, 1, .......]\n",
        "\n",
        "    # compute the loss\n",
        "    loss = loss_func(y_pred, batch_dict['y_target'].float())\n",
        "    loss_t = loss.item()\n",
        "    running_loss += (loss_t - running_loss) / (batch_index + 1)\n",
        "\n",
        "    # compute the accuracy\n",
        "    acc_t = compute_accuracy(y_pred, batch_dict['y_target'])\n",
        "    running_acc += (acc_t - running_acc) / (batch_index + 1)\n",
        "\n",
        "train_state['test_loss'] = running_loss\n",
        "train_state['test_acc'] = running_acc"
      ]
    },
    {
      "cell_type": "code",
      "execution_count": 33,
      "metadata": {
        "id": "aSE-Nof6ub3B",
        "outputId": "f9cbd1e2-7849-469d-9fe3-3bbad49e77b7",
        "colab": {
          "base_uri": "https://localhost:8080/"
        }
      },
      "outputs": [
        {
          "output_type": "stream",
          "name": "stdout",
          "text": [
            "Test loss: 0.314\n",
            "Test Accuracy: 87.50\n"
          ]
        }
      ],
      "source": [
        "print(\"Test loss: {:.3f}\".format(train_state['test_loss']))\n",
        "print(\"Test Accuracy: {:.2f}\".format(train_state['test_acc']))"
      ]
    },
    {
      "cell_type": "code",
      "execution_count": 34,
      "metadata": {
        "id": "n4v5dCJ1ub3C",
        "outputId": "045dc848-e430-45c8-c44c-9600f1b20da7",
        "colab": {
          "base_uri": "https://localhost:8080/"
        }
      },
      "outputs": [
        {
          "output_type": "stream",
          "name": "stdout",
          "text": [
            "['negative', 'positive']\n"
          ]
        }
      ],
      "source": [
        "rating_classes = []\n",
        "for i in range(len(dataset._vectorizer.rating_vocab)):\n",
        "    rating_classes.append(dataset._vectorizer.rating_vocab.lookup_index(i))\n",
        "print(rating_classes)"
      ]
    },
    {
      "cell_type": "code",
      "execution_count": 35,
      "metadata": {
        "id": "4zfMYqBcub3D",
        "outputId": "a7438ba3-87fc-4220-bac7-2934c2c20e81",
        "colab": {
          "base_uri": "https://localhost:8080/"
        }
      },
      "outputs": [
        {
          "output_type": "stream",
          "name": "stdout",
          "text": [
            "True       negative  positive\n",
            "Predicted                    \n",
            "negative        337        49\n",
            "positive         47       335\n"
          ]
        }
      ],
      "source": [
        "from sklearn.metrics import classification_report, confusion_matrix, accuracy_score\n",
        "import pandas as pd\n",
        "cm = confusion_matrix(y_target_list, y_pred_list)\n",
        "cm_df = pd.DataFrame(cm.T, index=rating_classes, columns=rating_classes)\n",
        "cm_df.index.name = 'Predicted'\n",
        "cm_df.columns.name = 'True'\n",
        "print(cm_df)"
      ]
    },
    {
      "cell_type": "code",
      "execution_count": 36,
      "metadata": {
        "id": "TYVGhlIfub3E",
        "outputId": "c276476c-9fee-42a3-a654-e8880348d81a",
        "colab": {
          "base_uri": "https://localhost:8080/"
        }
      },
      "outputs": [
        {
          "output_type": "stream",
          "name": "stdout",
          "text": [
            "              precision    recall  f1-score   support\n",
            "\n",
            "           0       0.87      0.88      0.88       384\n",
            "           1       0.88      0.87      0.87       384\n",
            "\n",
            "    accuracy                           0.88       768\n",
            "   macro avg       0.88      0.88      0.87       768\n",
            "weighted avg       0.88      0.88      0.87       768\n",
            "\n"
          ]
        }
      ],
      "source": [
        "print(classification_report(y_target_list, y_pred_list))"
      ]
    },
    {
      "cell_type": "markdown",
      "metadata": {
        "id": "I87m6geJub3F"
      },
      "source": [
        "### Prediction"
      ]
    },
    {
      "cell_type": "code",
      "execution_count": 37,
      "metadata": {
        "id": "yL_K2Kfpub3G"
      },
      "outputs": [],
      "source": [
        "def preprocess_text(text):\n",
        "    text = text.lower()\n",
        "    text = re.sub(r\"([.,!?])\", r\" \\1 \", text)     # E.g., convert \"end.\" to \"end . \"\n",
        "    text = re.sub(r\"[^a-zA-Z.,!?]+\", r\" \", text)  # replace special character strings with empty string\n",
        "    return text"
      ]
    },
    {
      "cell_type": "code",
      "execution_count": 38,
      "metadata": {
        "id": "5Fbo7vplub3H"
      },
      "outputs": [],
      "source": [
        "def predict_rating(review, classifier, vectorizer, decision_threshold=0.5):\n",
        "    \"\"\"Predict the rating of a review\n",
        "\n",
        "    Args:\n",
        "        review (str): the text of the review\n",
        "        classifier (ReviewClassifier): the trained model\n",
        "        vectorizer (ReviewVectorizer): the corresponding vectorizer\n",
        "        decision_threshold (float): The numerical boundary which separates the rating classes\n",
        "    \"\"\"\n",
        "    review = preprocess_text(review)\n",
        "\n",
        "    vectorized_review = torch.tensor(vectorizer.vectorize(review))  # E.g., [1792]\n",
        "    result = classifier(vectorized_review.view(1, -1))  # convert a vector to a matrix; E.g., [1, 1803]->[1]\n",
        "\n",
        "    probability_value = result.item()\n",
        "    index = 1\n",
        "    if probability_value < decision_threshold:\n",
        "        index = 0\n",
        "\n",
        "    return vectorizer.rating_vocab.lookup_index(index)"
      ]
    },
    {
      "cell_type": "code",
      "execution_count": 39,
      "metadata": {
        "id": "kpvPhU9Dub3H",
        "outputId": "dac00e5d-af86-46fa-8bba-63d933592a94",
        "colab": {
          "base_uri": "https://localhost:8080/"
        }
      },
      "outputs": [
        {
          "output_type": "stream",
          "name": "stdout",
          "text": [
            "this is a pretty awesome book -> positive\n"
          ]
        }
      ],
      "source": [
        "test_review = \"this is a pretty awesome book\"\n",
        "\n",
        "classifier = classifier.cpu()\n",
        "prediction = predict_rating(test_review, classifier, vectorizer, decision_threshold=0.5)\n",
        "print(\"{} -> {}\".format(test_review, prediction))"
      ]
    },
    {
      "cell_type": "markdown",
      "metadata": {
        "id": "w7zTWFRiub3I"
      },
      "source": [
        "### End"
      ]
    },
    {
      "cell_type": "markdown",
      "metadata": {
        "id": "x-3Pj6R_ub3J"
      },
      "source": [
        "# Lab Assignment #1: due on February 26, 2025\n",
        "\n",
        "- ### Task 1: Modify the original model using following approaches. Note that this task is meant for testing the performance change of the model with sugggested changes. So try to observe the performance change (i.e., test accuracy and loss) of each suggestion, and discuss how each change affects the results of original model. You only need to modify one of the approaches below at a time, such as setting the frequencey_cutoff to 0 without using a term frequency vector or adding one additional hidden layer. However, you are allowed to explore the best combination of these approaches.\n",
        "  1. Instead of using a term presence vector (e.g., [0, 1, 0, 0, ..., 1, 0]), use a term frequuecy vector (e.g., [0, 2, 0, 0, ..., 3, 0]).\n",
        "  > need to modify vectorize() function in code cell [8].\n",
        "  2. Add 1 additional hidden layer between self.fc1 and self.fc2.\n",
        "  > need to modify \\_\\_init\\_\\_() and forward() functions in code cell [12].\n",
        "  3. Change the value of frequency_cutoff to 0 for using all the terms occurring in training dataset.\n",
        "  > need to modify the value of args in code cell [20].\n",
        "\n",
        "- ### Task 2: Modify the original model to have 2 output nodes (instead of one output node) in the last layer using following guidelines. Note that you don't need to strictly follow these guidelines as long as your code generates correct results. Also note that this task is meant for learning how to modify the existing model, but not for improving the performance of the model.\n",
        "  1. Change the loss funcion in code cell [26]\n",
        "  > loss_func = nn.BCELoss() -> loss_func = nn.CrossEntropyLoss()\n",
        "  2. Change the output features size and output of the model in code cell [12].  \n",
        "  > hint: just \"return y_out\" since softmax() is handled by nn.CrossEntropyLoss().\n",
        "  >> return torch.sigmoid(y_out).squeeze() -> return y_out\n",
        "  3. Change compute_accuracy() in code cell [16].\n",
        "  > y_pred_indices = (y_pred>0.5).cpu().long() -> y_pred_indices = y_pred.max(dim=1).indices.cpu()\n",
        "  4. Change all occurences of loss_func() code as below.\n",
        "  > loss = loss_func(y_pred, batch_dict['y_target'].float()) -> loss = loss_func(y_pred, batch_dict['y_target'])\n",
        "  5. Need to change code in code cells [29] and [36] since the new model has 2 output nodes results, instead of one node result (refer to code change in step 3).\n",
        "\n",
        "- ### Use data\\yelp\\reviews_with_splits_lite.csv as a dataset in this lab assignment.\n",
        "- ### Prepare a Word or PDF report summarizing your solutions for Tasks 1 and 2. For Task 1, explain the modifications made to the original code and discuss how these changes impacted the test results. For Task 2, describe the changes made to the original code and justify your solution (i.e., why your or the suggested code was used to replace the original). The report should be up to two pages in length.\n",
        "\n",
        "- ### Submit one zip file, named __lab-assign-no1-yourname.zip__, that contains 2 Jupyter Notebook files (one for each Task; Please ensure that you display the modified code and, if necessary, disable the original code using comments (#).), input data file (include only reviews_with_splits_lite.csv file), and a report file through Turnitin on the class website.\n",
        "\n",
        "- ### The Jupyter Notebook file must show all output results of your solution code. So please ensure you run all the cells in the notebook file before submitting. Also, note that Turnitin does not allow you to resubmit your lab assignment file.\n",
        "- ### The lab assignment handed in after the due date will not be marked. So please submit the assignment file at least one hour before the deadline date and time. Also, ensure you get a confirmation message right after you submit the assignment file via Turnitin."
      ]
    }
  ],
  "metadata": {
    "kernelspec": {
      "display_name": "Python 3",
      "name": "python3"
    },
    "language_info": {
      "codemirror_mode": {
        "name": "ipython",
        "version": 3
      },
      "file_extension": ".py",
      "mimetype": "text/x-python",
      "name": "python",
      "nbconvert_exporter": "python",
      "pygments_lexer": "ipython3",
      "version": "3.12.3"
    },
    "toc": {
      "colors": {
        "hover_highlight": "#DAA520",
        "running_highlight": "#FF0000",
        "selected_highlight": "#FFD700"
      },
      "moveMenuLeft": true,
      "nav_menu": {
        "height": "156px",
        "width": "252px"
      },
      "navigate_menu": true,
      "number_sections": true,
      "sideBar": true,
      "threshold": "5",
      "toc_cell": false,
      "toc_section_display": "block",
      "toc_window_display": false
    },
    "colab": {
      "provenance": [],
      "toc_visible": true,
      "gpuType": "T4"
    },
    "accelerator": "GPU",
    "widgets": {
      "application/vnd.jupyter.widget-state+json": {
        "7af98aaf23f54b4b9a75cfd5b4e5a385": {
          "model_module": "@jupyter-widgets/controls",
          "model_name": "HBoxModel",
          "model_module_version": "1.5.0",
          "state": {
            "_dom_classes": [],
            "_model_module": "@jupyter-widgets/controls",
            "_model_module_version": "1.5.0",
            "_model_name": "HBoxModel",
            "_view_count": null,
            "_view_module": "@jupyter-widgets/controls",
            "_view_module_version": "1.5.0",
            "_view_name": "HBoxView",
            "box_style": "",
            "children": [
              "IPY_MODEL_58dda268ee01440586ba47afe8550d70",
              "IPY_MODEL_bb9de3cf7b004d9cabc714a6cb0bf5ff",
              "IPY_MODEL_29e2dc1b805241ecaa3c16cea9f4ab5c"
            ],
            "layout": "IPY_MODEL_af6ed70db92345f28391365ed5ffa47f"
          }
        },
        "58dda268ee01440586ba47afe8550d70": {
          "model_module": "@jupyter-widgets/controls",
          "model_name": "HTMLModel",
          "model_module_version": "1.5.0",
          "state": {
            "_dom_classes": [],
            "_model_module": "@jupyter-widgets/controls",
            "_model_module_version": "1.5.0",
            "_model_name": "HTMLModel",
            "_view_count": null,
            "_view_module": "@jupyter-widgets/controls",
            "_view_module_version": "1.5.0",
            "_view_name": "HTMLView",
            "description": "",
            "description_tooltip": null,
            "layout": "IPY_MODEL_95f41402587f488aabe276db6a1a23f1",
            "placeholder": "​",
            "style": "IPY_MODEL_31a40f2e34c34e06998fc50721c6aad1",
            "value": "training routine: 100%"
          }
        },
        "bb9de3cf7b004d9cabc714a6cb0bf5ff": {
          "model_module": "@jupyter-widgets/controls",
          "model_name": "FloatProgressModel",
          "model_module_version": "1.5.0",
          "state": {
            "_dom_classes": [],
            "_model_module": "@jupyter-widgets/controls",
            "_model_module_version": "1.5.0",
            "_model_name": "FloatProgressModel",
            "_view_count": null,
            "_view_module": "@jupyter-widgets/controls",
            "_view_module_version": "1.5.0",
            "_view_name": "ProgressView",
            "bar_style": "",
            "description": "",
            "description_tooltip": null,
            "layout": "IPY_MODEL_f99ae18150b3467288d4feaebf92c7a9",
            "max": 25,
            "min": 0,
            "orientation": "horizontal",
            "style": "IPY_MODEL_6c500e5e15fa485c8e8fced09c90c0ec",
            "value": 25
          }
        },
        "29e2dc1b805241ecaa3c16cea9f4ab5c": {
          "model_module": "@jupyter-widgets/controls",
          "model_name": "HTMLModel",
          "model_module_version": "1.5.0",
          "state": {
            "_dom_classes": [],
            "_model_module": "@jupyter-widgets/controls",
            "_model_module_version": "1.5.0",
            "_model_name": "HTMLModel",
            "_view_count": null,
            "_view_module": "@jupyter-widgets/controls",
            "_view_module_version": "1.5.0",
            "_view_name": "HTMLView",
            "description": "",
            "description_tooltip": null,
            "layout": "IPY_MODEL_f1490c9cebd84f3bb3b6eff23195a473",
            "placeholder": "​",
            "style": "IPY_MODEL_c82d4def373f4800a4e75025f28e5fdf",
            "value": " 25/25 [00:30&lt;00:00,  1.16s/it]"
          }
        },
        "af6ed70db92345f28391365ed5ffa47f": {
          "model_module": "@jupyter-widgets/base",
          "model_name": "LayoutModel",
          "model_module_version": "1.2.0",
          "state": {
            "_model_module": "@jupyter-widgets/base",
            "_model_module_version": "1.2.0",
            "_model_name": "LayoutModel",
            "_view_count": null,
            "_view_module": "@jupyter-widgets/base",
            "_view_module_version": "1.2.0",
            "_view_name": "LayoutView",
            "align_content": null,
            "align_items": null,
            "align_self": null,
            "border": null,
            "bottom": null,
            "display": null,
            "flex": null,
            "flex_flow": null,
            "grid_area": null,
            "grid_auto_columns": null,
            "grid_auto_flow": null,
            "grid_auto_rows": null,
            "grid_column": null,
            "grid_gap": null,
            "grid_row": null,
            "grid_template_areas": null,
            "grid_template_columns": null,
            "grid_template_rows": null,
            "height": null,
            "justify_content": null,
            "justify_items": null,
            "left": null,
            "margin": null,
            "max_height": null,
            "max_width": null,
            "min_height": null,
            "min_width": null,
            "object_fit": null,
            "object_position": null,
            "order": null,
            "overflow": null,
            "overflow_x": null,
            "overflow_y": null,
            "padding": null,
            "right": null,
            "top": null,
            "visibility": null,
            "width": null
          }
        },
        "95f41402587f488aabe276db6a1a23f1": {
          "model_module": "@jupyter-widgets/base",
          "model_name": "LayoutModel",
          "model_module_version": "1.2.0",
          "state": {
            "_model_module": "@jupyter-widgets/base",
            "_model_module_version": "1.2.0",
            "_model_name": "LayoutModel",
            "_view_count": null,
            "_view_module": "@jupyter-widgets/base",
            "_view_module_version": "1.2.0",
            "_view_name": "LayoutView",
            "align_content": null,
            "align_items": null,
            "align_self": null,
            "border": null,
            "bottom": null,
            "display": null,
            "flex": null,
            "flex_flow": null,
            "grid_area": null,
            "grid_auto_columns": null,
            "grid_auto_flow": null,
            "grid_auto_rows": null,
            "grid_column": null,
            "grid_gap": null,
            "grid_row": null,
            "grid_template_areas": null,
            "grid_template_columns": null,
            "grid_template_rows": null,
            "height": null,
            "justify_content": null,
            "justify_items": null,
            "left": null,
            "margin": null,
            "max_height": null,
            "max_width": null,
            "min_height": null,
            "min_width": null,
            "object_fit": null,
            "object_position": null,
            "order": null,
            "overflow": null,
            "overflow_x": null,
            "overflow_y": null,
            "padding": null,
            "right": null,
            "top": null,
            "visibility": null,
            "width": null
          }
        },
        "31a40f2e34c34e06998fc50721c6aad1": {
          "model_module": "@jupyter-widgets/controls",
          "model_name": "DescriptionStyleModel",
          "model_module_version": "1.5.0",
          "state": {
            "_model_module": "@jupyter-widgets/controls",
            "_model_module_version": "1.5.0",
            "_model_name": "DescriptionStyleModel",
            "_view_count": null,
            "_view_module": "@jupyter-widgets/base",
            "_view_module_version": "1.2.0",
            "_view_name": "StyleView",
            "description_width": ""
          }
        },
        "f99ae18150b3467288d4feaebf92c7a9": {
          "model_module": "@jupyter-widgets/base",
          "model_name": "LayoutModel",
          "model_module_version": "1.2.0",
          "state": {
            "_model_module": "@jupyter-widgets/base",
            "_model_module_version": "1.2.0",
            "_model_name": "LayoutModel",
            "_view_count": null,
            "_view_module": "@jupyter-widgets/base",
            "_view_module_version": "1.2.0",
            "_view_name": "LayoutView",
            "align_content": null,
            "align_items": null,
            "align_self": null,
            "border": null,
            "bottom": null,
            "display": null,
            "flex": null,
            "flex_flow": null,
            "grid_area": null,
            "grid_auto_columns": null,
            "grid_auto_flow": null,
            "grid_auto_rows": null,
            "grid_column": null,
            "grid_gap": null,
            "grid_row": null,
            "grid_template_areas": null,
            "grid_template_columns": null,
            "grid_template_rows": null,
            "height": null,
            "justify_content": null,
            "justify_items": null,
            "left": null,
            "margin": null,
            "max_height": null,
            "max_width": null,
            "min_height": null,
            "min_width": null,
            "object_fit": null,
            "object_position": null,
            "order": null,
            "overflow": null,
            "overflow_x": null,
            "overflow_y": null,
            "padding": null,
            "right": null,
            "top": null,
            "visibility": null,
            "width": null
          }
        },
        "6c500e5e15fa485c8e8fced09c90c0ec": {
          "model_module": "@jupyter-widgets/controls",
          "model_name": "ProgressStyleModel",
          "model_module_version": "1.5.0",
          "state": {
            "_model_module": "@jupyter-widgets/controls",
            "_model_module_version": "1.5.0",
            "_model_name": "ProgressStyleModel",
            "_view_count": null,
            "_view_module": "@jupyter-widgets/base",
            "_view_module_version": "1.2.0",
            "_view_name": "StyleView",
            "bar_color": null,
            "description_width": ""
          }
        },
        "f1490c9cebd84f3bb3b6eff23195a473": {
          "model_module": "@jupyter-widgets/base",
          "model_name": "LayoutModel",
          "model_module_version": "1.2.0",
          "state": {
            "_model_module": "@jupyter-widgets/base",
            "_model_module_version": "1.2.0",
            "_model_name": "LayoutModel",
            "_view_count": null,
            "_view_module": "@jupyter-widgets/base",
            "_view_module_version": "1.2.0",
            "_view_name": "LayoutView",
            "align_content": null,
            "align_items": null,
            "align_self": null,
            "border": null,
            "bottom": null,
            "display": null,
            "flex": null,
            "flex_flow": null,
            "grid_area": null,
            "grid_auto_columns": null,
            "grid_auto_flow": null,
            "grid_auto_rows": null,
            "grid_column": null,
            "grid_gap": null,
            "grid_row": null,
            "grid_template_areas": null,
            "grid_template_columns": null,
            "grid_template_rows": null,
            "height": null,
            "justify_content": null,
            "justify_items": null,
            "left": null,
            "margin": null,
            "max_height": null,
            "max_width": null,
            "min_height": null,
            "min_width": null,
            "object_fit": null,
            "object_position": null,
            "order": null,
            "overflow": null,
            "overflow_x": null,
            "overflow_y": null,
            "padding": null,
            "right": null,
            "top": null,
            "visibility": null,
            "width": null
          }
        },
        "c82d4def373f4800a4e75025f28e5fdf": {
          "model_module": "@jupyter-widgets/controls",
          "model_name": "DescriptionStyleModel",
          "model_module_version": "1.5.0",
          "state": {
            "_model_module": "@jupyter-widgets/controls",
            "_model_module_version": "1.5.0",
            "_model_name": "DescriptionStyleModel",
            "_view_count": null,
            "_view_module": "@jupyter-widgets/base",
            "_view_module_version": "1.2.0",
            "_view_name": "StyleView",
            "description_width": ""
          }
        },
        "da50feb37dea42baa40f620706260f83": {
          "model_module": "@jupyter-widgets/controls",
          "model_name": "HBoxModel",
          "model_module_version": "1.5.0",
          "state": {
            "_dom_classes": [],
            "_model_module": "@jupyter-widgets/controls",
            "_model_module_version": "1.5.0",
            "_model_name": "HBoxModel",
            "_view_count": null,
            "_view_module": "@jupyter-widgets/controls",
            "_view_module_version": "1.5.0",
            "_view_name": "HBoxView",
            "box_style": "",
            "children": [
              "IPY_MODEL_64afe5ce32114a70b8441cf41bb666c9",
              "IPY_MODEL_964b90f0d1034d689c18d8b251cb86ec",
              "IPY_MODEL_f04f433bc5de4981bae399053d19f4de"
            ],
            "layout": "IPY_MODEL_e8d0499d900546af83381ae19a7d19f7"
          }
        },
        "64afe5ce32114a70b8441cf41bb666c9": {
          "model_module": "@jupyter-widgets/controls",
          "model_name": "HTMLModel",
          "model_module_version": "1.5.0",
          "state": {
            "_dom_classes": [],
            "_model_module": "@jupyter-widgets/controls",
            "_model_module_version": "1.5.0",
            "_model_name": "HTMLModel",
            "_view_count": null,
            "_view_module": "@jupyter-widgets/controls",
            "_view_module_version": "1.5.0",
            "_view_name": "HTMLView",
            "description": "",
            "description_tooltip": null,
            "layout": "IPY_MODEL_41fe9aa63d43452da2ab5ff383c8c7d7",
            "placeholder": "​",
            "style": "IPY_MODEL_132ece16387e4f739e30a9063804714c",
            "value": "split=train:   3%"
          }
        },
        "964b90f0d1034d689c18d8b251cb86ec": {
          "model_module": "@jupyter-widgets/controls",
          "model_name": "FloatProgressModel",
          "model_module_version": "1.5.0",
          "state": {
            "_dom_classes": [],
            "_model_module": "@jupyter-widgets/controls",
            "_model_module_version": "1.5.0",
            "_model_name": "FloatProgressModel",
            "_view_count": null,
            "_view_module": "@jupyter-widgets/controls",
            "_view_module_version": "1.5.0",
            "_view_name": "ProgressView",
            "bar_style": "",
            "description": "",
            "description_tooltip": null,
            "layout": "IPY_MODEL_9eac0b79899146019e83918df348a942",
            "max": 30,
            "min": 0,
            "orientation": "horizontal",
            "style": "IPY_MODEL_98b09d2dd38c4e0894e41e6bff8f26bf",
            "value": 1
          }
        },
        "f04f433bc5de4981bae399053d19f4de": {
          "model_module": "@jupyter-widgets/controls",
          "model_name": "HTMLModel",
          "model_module_version": "1.5.0",
          "state": {
            "_dom_classes": [],
            "_model_module": "@jupyter-widgets/controls",
            "_model_module_version": "1.5.0",
            "_model_name": "HTMLModel",
            "_view_count": null,
            "_view_module": "@jupyter-widgets/controls",
            "_view_module_version": "1.5.0",
            "_view_name": "HTMLView",
            "description": "",
            "description_tooltip": null,
            "layout": "IPY_MODEL_4310c252736a4f73b1f8b32858a2f0e4",
            "placeholder": "​",
            "style": "IPY_MODEL_b568be31f86f40be9f124cfb1e2753f8",
            "value": " 1/30 [00:38&lt;00:52,  1.80s/it, acc=99.9, epoch=24, loss=0.012]"
          }
        },
        "e8d0499d900546af83381ae19a7d19f7": {
          "model_module": "@jupyter-widgets/base",
          "model_name": "LayoutModel",
          "model_module_version": "1.2.0",
          "state": {
            "_model_module": "@jupyter-widgets/base",
            "_model_module_version": "1.2.0",
            "_model_name": "LayoutModel",
            "_view_count": null,
            "_view_module": "@jupyter-widgets/base",
            "_view_module_version": "1.2.0",
            "_view_name": "LayoutView",
            "align_content": null,
            "align_items": null,
            "align_self": null,
            "border": null,
            "bottom": null,
            "display": null,
            "flex": null,
            "flex_flow": null,
            "grid_area": null,
            "grid_auto_columns": null,
            "grid_auto_flow": null,
            "grid_auto_rows": null,
            "grid_column": null,
            "grid_gap": null,
            "grid_row": null,
            "grid_template_areas": null,
            "grid_template_columns": null,
            "grid_template_rows": null,
            "height": null,
            "justify_content": null,
            "justify_items": null,
            "left": null,
            "margin": null,
            "max_height": null,
            "max_width": null,
            "min_height": null,
            "min_width": null,
            "object_fit": null,
            "object_position": null,
            "order": null,
            "overflow": null,
            "overflow_x": null,
            "overflow_y": null,
            "padding": null,
            "right": null,
            "top": null,
            "visibility": null,
            "width": null
          }
        },
        "41fe9aa63d43452da2ab5ff383c8c7d7": {
          "model_module": "@jupyter-widgets/base",
          "model_name": "LayoutModel",
          "model_module_version": "1.2.0",
          "state": {
            "_model_module": "@jupyter-widgets/base",
            "_model_module_version": "1.2.0",
            "_model_name": "LayoutModel",
            "_view_count": null,
            "_view_module": "@jupyter-widgets/base",
            "_view_module_version": "1.2.0",
            "_view_name": "LayoutView",
            "align_content": null,
            "align_items": null,
            "align_self": null,
            "border": null,
            "bottom": null,
            "display": null,
            "flex": null,
            "flex_flow": null,
            "grid_area": null,
            "grid_auto_columns": null,
            "grid_auto_flow": null,
            "grid_auto_rows": null,
            "grid_column": null,
            "grid_gap": null,
            "grid_row": null,
            "grid_template_areas": null,
            "grid_template_columns": null,
            "grid_template_rows": null,
            "height": null,
            "justify_content": null,
            "justify_items": null,
            "left": null,
            "margin": null,
            "max_height": null,
            "max_width": null,
            "min_height": null,
            "min_width": null,
            "object_fit": null,
            "object_position": null,
            "order": null,
            "overflow": null,
            "overflow_x": null,
            "overflow_y": null,
            "padding": null,
            "right": null,
            "top": null,
            "visibility": null,
            "width": null
          }
        },
        "132ece16387e4f739e30a9063804714c": {
          "model_module": "@jupyter-widgets/controls",
          "model_name": "DescriptionStyleModel",
          "model_module_version": "1.5.0",
          "state": {
            "_model_module": "@jupyter-widgets/controls",
            "_model_module_version": "1.5.0",
            "_model_name": "DescriptionStyleModel",
            "_view_count": null,
            "_view_module": "@jupyter-widgets/base",
            "_view_module_version": "1.2.0",
            "_view_name": "StyleView",
            "description_width": ""
          }
        },
        "9eac0b79899146019e83918df348a942": {
          "model_module": "@jupyter-widgets/base",
          "model_name": "LayoutModel",
          "model_module_version": "1.2.0",
          "state": {
            "_model_module": "@jupyter-widgets/base",
            "_model_module_version": "1.2.0",
            "_model_name": "LayoutModel",
            "_view_count": null,
            "_view_module": "@jupyter-widgets/base",
            "_view_module_version": "1.2.0",
            "_view_name": "LayoutView",
            "align_content": null,
            "align_items": null,
            "align_self": null,
            "border": null,
            "bottom": null,
            "display": null,
            "flex": null,
            "flex_flow": null,
            "grid_area": null,
            "grid_auto_columns": null,
            "grid_auto_flow": null,
            "grid_auto_rows": null,
            "grid_column": null,
            "grid_gap": null,
            "grid_row": null,
            "grid_template_areas": null,
            "grid_template_columns": null,
            "grid_template_rows": null,
            "height": null,
            "justify_content": null,
            "justify_items": null,
            "left": null,
            "margin": null,
            "max_height": null,
            "max_width": null,
            "min_height": null,
            "min_width": null,
            "object_fit": null,
            "object_position": null,
            "order": null,
            "overflow": null,
            "overflow_x": null,
            "overflow_y": null,
            "padding": null,
            "right": null,
            "top": null,
            "visibility": null,
            "width": null
          }
        },
        "98b09d2dd38c4e0894e41e6bff8f26bf": {
          "model_module": "@jupyter-widgets/controls",
          "model_name": "ProgressStyleModel",
          "model_module_version": "1.5.0",
          "state": {
            "_model_module": "@jupyter-widgets/controls",
            "_model_module_version": "1.5.0",
            "_model_name": "ProgressStyleModel",
            "_view_count": null,
            "_view_module": "@jupyter-widgets/base",
            "_view_module_version": "1.2.0",
            "_view_name": "StyleView",
            "bar_color": null,
            "description_width": ""
          }
        },
        "4310c252736a4f73b1f8b32858a2f0e4": {
          "model_module": "@jupyter-widgets/base",
          "model_name": "LayoutModel",
          "model_module_version": "1.2.0",
          "state": {
            "_model_module": "@jupyter-widgets/base",
            "_model_module_version": "1.2.0",
            "_model_name": "LayoutModel",
            "_view_count": null,
            "_view_module": "@jupyter-widgets/base",
            "_view_module_version": "1.2.0",
            "_view_name": "LayoutView",
            "align_content": null,
            "align_items": null,
            "align_self": null,
            "border": null,
            "bottom": null,
            "display": null,
            "flex": null,
            "flex_flow": null,
            "grid_area": null,
            "grid_auto_columns": null,
            "grid_auto_flow": null,
            "grid_auto_rows": null,
            "grid_column": null,
            "grid_gap": null,
            "grid_row": null,
            "grid_template_areas": null,
            "grid_template_columns": null,
            "grid_template_rows": null,
            "height": null,
            "justify_content": null,
            "justify_items": null,
            "left": null,
            "margin": null,
            "max_height": null,
            "max_width": null,
            "min_height": null,
            "min_width": null,
            "object_fit": null,
            "object_position": null,
            "order": null,
            "overflow": null,
            "overflow_x": null,
            "overflow_y": null,
            "padding": null,
            "right": null,
            "top": null,
            "visibility": null,
            "width": null
          }
        },
        "b568be31f86f40be9f124cfb1e2753f8": {
          "model_module": "@jupyter-widgets/controls",
          "model_name": "DescriptionStyleModel",
          "model_module_version": "1.5.0",
          "state": {
            "_model_module": "@jupyter-widgets/controls",
            "_model_module_version": "1.5.0",
            "_model_name": "DescriptionStyleModel",
            "_view_count": null,
            "_view_module": "@jupyter-widgets/base",
            "_view_module_version": "1.2.0",
            "_view_name": "StyleView",
            "description_width": ""
          }
        },
        "c574ec29cb3745bc8a384e3616cdd4c3": {
          "model_module": "@jupyter-widgets/controls",
          "model_name": "HBoxModel",
          "model_module_version": "1.5.0",
          "state": {
            "_dom_classes": [],
            "_model_module": "@jupyter-widgets/controls",
            "_model_module_version": "1.5.0",
            "_model_name": "HBoxModel",
            "_view_count": null,
            "_view_module": "@jupyter-widgets/controls",
            "_view_module_version": "1.5.0",
            "_view_name": "HBoxView",
            "box_style": "",
            "children": [
              "IPY_MODEL_ce1511d97e814c9d93b5bcf93c5b79ec",
              "IPY_MODEL_23bbb5c26ff841a6b9fc82e3b657ce5f",
              "IPY_MODEL_d2b7b8622671480cbd00de41afa32171"
            ],
            "layout": "IPY_MODEL_bbd93248c3984357bc8cc099c87a4741"
          }
        },
        "ce1511d97e814c9d93b5bcf93c5b79ec": {
          "model_module": "@jupyter-widgets/controls",
          "model_name": "HTMLModel",
          "model_module_version": "1.5.0",
          "state": {
            "_dom_classes": [],
            "_model_module": "@jupyter-widgets/controls",
            "_model_module_version": "1.5.0",
            "_model_name": "HTMLModel",
            "_view_count": null,
            "_view_module": "@jupyter-widgets/controls",
            "_view_module_version": "1.5.0",
            "_view_name": "HTMLView",
            "description": "",
            "description_tooltip": null,
            "layout": "IPY_MODEL_0089a984d23d48f1b3c63b314da4cbaa",
            "placeholder": "​",
            "style": "IPY_MODEL_52384394379b4d3c8c6c01fee7156dd6",
            "value": "split=val:  17%"
          }
        },
        "23bbb5c26ff841a6b9fc82e3b657ce5f": {
          "model_module": "@jupyter-widgets/controls",
          "model_name": "FloatProgressModel",
          "model_module_version": "1.5.0",
          "state": {
            "_dom_classes": [],
            "_model_module": "@jupyter-widgets/controls",
            "_model_module_version": "1.5.0",
            "_model_name": "FloatProgressModel",
            "_view_count": null,
            "_view_module": "@jupyter-widgets/controls",
            "_view_module_version": "1.5.0",
            "_view_name": "ProgressView",
            "bar_style": "",
            "description": "",
            "description_tooltip": null,
            "layout": "IPY_MODEL_e8a1b2a5512a49cba2eb851796ec892f",
            "max": 6,
            "min": 0,
            "orientation": "horizontal",
            "style": "IPY_MODEL_498ccd981cb54b909ffb747e8b9dd32c",
            "value": 1
          }
        },
        "d2b7b8622671480cbd00de41afa32171": {
          "model_module": "@jupyter-widgets/controls",
          "model_name": "HTMLModel",
          "model_module_version": "1.5.0",
          "state": {
            "_dom_classes": [],
            "_model_module": "@jupyter-widgets/controls",
            "_model_module_version": "1.5.0",
            "_model_name": "HTMLModel",
            "_view_count": null,
            "_view_module": "@jupyter-widgets/controls",
            "_view_module_version": "1.5.0",
            "_view_name": "HTMLView",
            "description": "",
            "description_tooltip": null,
            "layout": "IPY_MODEL_3b46a31595034f1cb6ccdae303dc4ef2",
            "placeholder": "​",
            "style": "IPY_MODEL_6a02367ad9d8452f90db039562438bc2",
            "value": " 1/6 [00:38&lt;00:17,  3.53s/it, acc=89.6, epoch=24, loss=0.306]"
          }
        },
        "bbd93248c3984357bc8cc099c87a4741": {
          "model_module": "@jupyter-widgets/base",
          "model_name": "LayoutModel",
          "model_module_version": "1.2.0",
          "state": {
            "_model_module": "@jupyter-widgets/base",
            "_model_module_version": "1.2.0",
            "_model_name": "LayoutModel",
            "_view_count": null,
            "_view_module": "@jupyter-widgets/base",
            "_view_module_version": "1.2.0",
            "_view_name": "LayoutView",
            "align_content": null,
            "align_items": null,
            "align_self": null,
            "border": null,
            "bottom": null,
            "display": null,
            "flex": null,
            "flex_flow": null,
            "grid_area": null,
            "grid_auto_columns": null,
            "grid_auto_flow": null,
            "grid_auto_rows": null,
            "grid_column": null,
            "grid_gap": null,
            "grid_row": null,
            "grid_template_areas": null,
            "grid_template_columns": null,
            "grid_template_rows": null,
            "height": null,
            "justify_content": null,
            "justify_items": null,
            "left": null,
            "margin": null,
            "max_height": null,
            "max_width": null,
            "min_height": null,
            "min_width": null,
            "object_fit": null,
            "object_position": null,
            "order": null,
            "overflow": null,
            "overflow_x": null,
            "overflow_y": null,
            "padding": null,
            "right": null,
            "top": null,
            "visibility": null,
            "width": null
          }
        },
        "0089a984d23d48f1b3c63b314da4cbaa": {
          "model_module": "@jupyter-widgets/base",
          "model_name": "LayoutModel",
          "model_module_version": "1.2.0",
          "state": {
            "_model_module": "@jupyter-widgets/base",
            "_model_module_version": "1.2.0",
            "_model_name": "LayoutModel",
            "_view_count": null,
            "_view_module": "@jupyter-widgets/base",
            "_view_module_version": "1.2.0",
            "_view_name": "LayoutView",
            "align_content": null,
            "align_items": null,
            "align_self": null,
            "border": null,
            "bottom": null,
            "display": null,
            "flex": null,
            "flex_flow": null,
            "grid_area": null,
            "grid_auto_columns": null,
            "grid_auto_flow": null,
            "grid_auto_rows": null,
            "grid_column": null,
            "grid_gap": null,
            "grid_row": null,
            "grid_template_areas": null,
            "grid_template_columns": null,
            "grid_template_rows": null,
            "height": null,
            "justify_content": null,
            "justify_items": null,
            "left": null,
            "margin": null,
            "max_height": null,
            "max_width": null,
            "min_height": null,
            "min_width": null,
            "object_fit": null,
            "object_position": null,
            "order": null,
            "overflow": null,
            "overflow_x": null,
            "overflow_y": null,
            "padding": null,
            "right": null,
            "top": null,
            "visibility": null,
            "width": null
          }
        },
        "52384394379b4d3c8c6c01fee7156dd6": {
          "model_module": "@jupyter-widgets/controls",
          "model_name": "DescriptionStyleModel",
          "model_module_version": "1.5.0",
          "state": {
            "_model_module": "@jupyter-widgets/controls",
            "_model_module_version": "1.5.0",
            "_model_name": "DescriptionStyleModel",
            "_view_count": null,
            "_view_module": "@jupyter-widgets/base",
            "_view_module_version": "1.2.0",
            "_view_name": "StyleView",
            "description_width": ""
          }
        },
        "e8a1b2a5512a49cba2eb851796ec892f": {
          "model_module": "@jupyter-widgets/base",
          "model_name": "LayoutModel",
          "model_module_version": "1.2.0",
          "state": {
            "_model_module": "@jupyter-widgets/base",
            "_model_module_version": "1.2.0",
            "_model_name": "LayoutModel",
            "_view_count": null,
            "_view_module": "@jupyter-widgets/base",
            "_view_module_version": "1.2.0",
            "_view_name": "LayoutView",
            "align_content": null,
            "align_items": null,
            "align_self": null,
            "border": null,
            "bottom": null,
            "display": null,
            "flex": null,
            "flex_flow": null,
            "grid_area": null,
            "grid_auto_columns": null,
            "grid_auto_flow": null,
            "grid_auto_rows": null,
            "grid_column": null,
            "grid_gap": null,
            "grid_row": null,
            "grid_template_areas": null,
            "grid_template_columns": null,
            "grid_template_rows": null,
            "height": null,
            "justify_content": null,
            "justify_items": null,
            "left": null,
            "margin": null,
            "max_height": null,
            "max_width": null,
            "min_height": null,
            "min_width": null,
            "object_fit": null,
            "object_position": null,
            "order": null,
            "overflow": null,
            "overflow_x": null,
            "overflow_y": null,
            "padding": null,
            "right": null,
            "top": null,
            "visibility": null,
            "width": null
          }
        },
        "498ccd981cb54b909ffb747e8b9dd32c": {
          "model_module": "@jupyter-widgets/controls",
          "model_name": "ProgressStyleModel",
          "model_module_version": "1.5.0",
          "state": {
            "_model_module": "@jupyter-widgets/controls",
            "_model_module_version": "1.5.0",
            "_model_name": "ProgressStyleModel",
            "_view_count": null,
            "_view_module": "@jupyter-widgets/base",
            "_view_module_version": "1.2.0",
            "_view_name": "StyleView",
            "bar_color": null,
            "description_width": ""
          }
        },
        "3b46a31595034f1cb6ccdae303dc4ef2": {
          "model_module": "@jupyter-widgets/base",
          "model_name": "LayoutModel",
          "model_module_version": "1.2.0",
          "state": {
            "_model_module": "@jupyter-widgets/base",
            "_model_module_version": "1.2.0",
            "_model_name": "LayoutModel",
            "_view_count": null,
            "_view_module": "@jupyter-widgets/base",
            "_view_module_version": "1.2.0",
            "_view_name": "LayoutView",
            "align_content": null,
            "align_items": null,
            "align_self": null,
            "border": null,
            "bottom": null,
            "display": null,
            "flex": null,
            "flex_flow": null,
            "grid_area": null,
            "grid_auto_columns": null,
            "grid_auto_flow": null,
            "grid_auto_rows": null,
            "grid_column": null,
            "grid_gap": null,
            "grid_row": null,
            "grid_template_areas": null,
            "grid_template_columns": null,
            "grid_template_rows": null,
            "height": null,
            "justify_content": null,
            "justify_items": null,
            "left": null,
            "margin": null,
            "max_height": null,
            "max_width": null,
            "min_height": null,
            "min_width": null,
            "object_fit": null,
            "object_position": null,
            "order": null,
            "overflow": null,
            "overflow_x": null,
            "overflow_y": null,
            "padding": null,
            "right": null,
            "top": null,
            "visibility": null,
            "width": null
          }
        },
        "6a02367ad9d8452f90db039562438bc2": {
          "model_module": "@jupyter-widgets/controls",
          "model_name": "DescriptionStyleModel",
          "model_module_version": "1.5.0",
          "state": {
            "_model_module": "@jupyter-widgets/controls",
            "_model_module_version": "1.5.0",
            "_model_name": "DescriptionStyleModel",
            "_view_count": null,
            "_view_module": "@jupyter-widgets/base",
            "_view_module_version": "1.2.0",
            "_view_name": "StyleView",
            "description_width": ""
          }
        }
      }
    }
  },
  "nbformat": 4,
  "nbformat_minor": 0
}